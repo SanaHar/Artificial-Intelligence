{
 "cells": [
  {
   "cell_type": "markdown",
   "metadata": {},
   "source": [
    "<img src='http://www-scf.usc.edu/~ghasemig/images/sharif.png' alt=\"SUT logo\" width=300 height=300 align=left class=\"saturate\" >\n",
    "\n",
    "<br>\n",
    "<font>\n",
    "<div dir=ltr align=center>\n",
    "<font color=0F5298 size=7>\n",
    "    Artificial Intelligence <br>\n",
    "<font color=2565AE size=5>\n",
    "    Computer Engineering Department <br>\n",
    "    Spring 2023<br>\n",
    "<font color=3C99D size=5>\n",
    "    Practical Assignment 1 - Search <br>\n",
    "<font color=696880 size=4>\n",
    "    Mohammad Mahdi Abootorabi and Roozbeh Pirayadi \n",
    "\n",
    "____"
   ]
  },
  {
   "cell_type": "markdown",
   "metadata": {},
   "source": [
    "# Personal Data"
   ]
  },
  {
   "cell_type": "code",
   "execution_count": 60,
   "metadata": {},
   "outputs": [],
   "source": [
    "# Set your student number\n",
    "student_number = '98104047'\n",
    "Name = 'Sana'\n",
    "Last_Name = 'Harighi'"
   ]
  },
  {
   "cell_type": "markdown",
   "metadata": {},
   "source": [
    "# Rules\n",
    "- Make sure that all of your cells can be run perfectly. "
   ]
  },
  {
   "cell_type": "markdown",
   "metadata": {},
   "source": [
    "# Q1: Elevator Ride (100 Points)"
   ]
  },
  {
   "cell_type": "markdown",
   "metadata": {},
   "source": [
    "<font size=4>\n",
    "Author: Roozbeh Pirayadi\n",
    "\t\t\t<br/>\n",
    "                <font color=red>\n",
    "Please run all the cells.\n",
    "     </font>\n",
    "</font>\n",
    "                <br/>\n",
    "    </div>"
   ]
  },
  {
   "cell_type": "markdown",
   "metadata": {},
   "source": [
    "## Problem Definition"
   ]
  },
  {
   "cell_type": "markdown",
   "metadata": {},
   "source": [
    "Computer Engineering department has two floors. There are N students and M professors on the first floor, all of whom, want to go from the first floor to the second floor. The only way to move from the first floor to the second one is by using an elevator. \n",
    "\n",
    "At most two people can fit in the elevator at the same time. Also, the elevator cannot operate by itself. This means that when the elevator moves up or down, there is either one person in the elevator or there are two people in it. \n",
    "\n",
    "But there is a problem. \n",
    "If in any of the mentioned floors, there are more students than proffesors, students will start asking questions from the professors. Professors are not willing to answer any question. So none of them wants to be in a floor where the number of students is more than the number of professors. Note that when there is no professor in the floor the number of students is not important. But when there is, the number of students must be less than or equal to the number of professors.\n",
    "\n",
    "Our goal is to find a schedule for the people to get on the elevator so that this constraint is satisfied.\n",
    "\n",
    "Below you can see a solution for 4 students and 4 professors"
   ]
  },
  {
   "cell_type": "markdown",
   "metadata": {},
   "source": [
    "![SegmentLocal](images/result_of_5_3.gif \"segment\")"
   ]
  },
  {
   "cell_type": "markdown",
   "metadata": {},
   "source": [
    "Every state in the discussed problem could be represented as a 5-tuple (s1, p1, s2, p2, e). Where s1 is the number of students in the first floor, p1 is the number of professors in the first floor, s2 is the number of students in the second floor and p2 is the number of professors in the second floor. Finally e shows which floor the elevator is.\n",
    "\n",
    "Our goal is to find a feasible solution. we will do this by starting from the initial state and searching for the final state. Note that there may be more than one way to the final state so the solution is not unique."
   ]
  },
  {
   "cell_type": "markdown",
   "metadata": {},
   "source": [
    "## Solution"
   ]
  },
  {
   "cell_type": "markdown",
   "metadata": {},
   "source": [
    "### Graph"
   ]
  },
  {
   "cell_type": "markdown",
   "metadata": {},
   "source": [
    "Below is an implementation of a directed weighted graph. You don't need to change anything in this cell. Just take a look at the code, so you could use it."
   ]
  },
  {
   "cell_type": "code",
   "execution_count": 61,
   "metadata": {},
   "outputs": [],
   "source": [
    "###########################################\n",
    "###### no need to change any thing ########\n",
    "###########################################\n",
    "class graph:\n",
    "    def __init__(self):\n",
    "        self.graph = {}\n",
    "        self.visited = {}\n",
    "\n",
    "    # add a new edge between v1 and v2 with weight w or update the weight if edge already exists\n",
    "    def append(self, v1, v2, w):\n",
    "        if v1 not in self.graph.keys():\n",
    "            self.graph[v1] = {}\n",
    "            self.visited[v1] = 0\n",
    "        if v2 not in self.graph.keys():\n",
    "            self.graph[v2] = {}\n",
    "            self.visited[v2] = 0\n",
    "        self.graph[v1][v2] = w\n",
    "\n",
    "    # return adjacency list (used for debugging)\n",
    "    def reveal(self):\n",
    "        return self.graph\n",
    "\n",
    "    # return all vertices in the graph\n",
    "    def vertex(self):\n",
    "        return list(self.graph.keys())\n",
    "\n",
    "    # return all neighbours of a vertix as a list\n",
    "\n",
    "    def neighbour(self, v):\n",
    "        return list(self.graph[v].keys())\n",
    "\n",
    "    # return the weight of a edge\n",
    "\n",
    "    def weight(self, v1, v2):\n",
    "        return (self.graph[v1][v2])\n",
    "\n",
    "    # return the number of vertices\n",
    "\n",
    "    def order(self):\n",
    "        return len(self.graph)\n",
    "\n",
    "    # visit a particular vertex\n",
    "    def visit(self, v):\n",
    "        self.visited[v] = 1\n",
    "\n",
    "    # return the visit status of a particular vertex\n",
    "    def is_visited(self, vertexid):\n",
    "        return self.visited[vertexid]\n",
    "\n",
    "    # return which vertices have been visited\n",
    "    def get_visited(self):\n",
    "        return self.visited\n",
    "\n",
    "    # return degree of a particular vertex\n",
    "    def degree(self, vertexid):\n",
    "        return len(self.graph[vertexid])\n",
    "\n",
    "    # unvisit the whole graph        if whole is True\n",
    "    # unvisit a particular vertex    if whole is False\n",
    "    def clear(self, v=None, whole=False):\n",
    "        if whole:\n",
    "            self.visited = dict(zip(self.graph.keys(), [0 for i in range(len(self.graph))]))\n",
    "        elif v is not None:\n",
    "            self.visited[v] = 0\n",
    "        else:\n",
    "            assert False, \"arguments must satisfy whole=True or v not None\"\n"
   ]
  },
  {
   "cell_type": "markdown",
   "metadata": {},
   "source": [
    "#### Building the graph of states"
   ]
  },
  {
   "cell_type": "markdown",
   "metadata": {},
   "source": [
    "Let's start by a little example and consider a situation where we there are 3 students and 3 professors. Note that your code should be written for the general case using the variables N and M."
   ]
  },
  {
   "cell_type": "code",
   "execution_count": 62,
   "metadata": {},
   "outputs": [],
   "source": [
    "# Number of Students\n",
    "N = 3\n",
    "# Number of Professors\n",
    "M = 3"
   ]
  },
  {
   "cell_type": "markdown",
   "metadata": {},
   "source": [
    "First let's implement a function that receives a 4-tuple (s1, p1, s2, p2) as an input and checks whether this state is a valid one or not. Note that e (position of the elevator) cannot affect the validity of a state so it is not provided as an input."
   ]
  },
  {
   "cell_type": "code",
   "execution_count": 63,
   "metadata": {},
   "outputs": [],
   "source": [
    "# validate a state (s1, p1, s2, p2)\n",
    "# if the constraints are satisfied return true, else return false\n",
    "def validate(input):\n",
    "\n",
    "    s1, p1, s2, p2 = input\n",
    "\n",
    "    ################################################\n",
    "    ###### complete this function (10 Points) ######\n",
    "    ################################################\n",
    "    if (p1==0 or (p1!=0 and s1<=p1)) and (p2==0 or (p2!=0 and s2<=p2)):\n",
    "        return True\n",
    "    return False\n"
   ]
  },
  {
   "cell_type": "markdown",
   "metadata": {},
   "source": [
    "The below function must build the whole graph. Each scenario is a vertex and v1 is connected to v2 with weight 1 if scenario in v1 could be changed to the scenario in v2 by only one traversal of the elevator.\n",
    "\n",
    "Hint: you can iterate over different values of s1, p1 and e and determine s2 and p2 using N and M. Then you can check all different actions and use the validate function to determine whether taking this action is possible or not."
   ]
  },
  {
   "cell_type": "code",
   "execution_count": 64,
   "metadata": {},
   "outputs": [],
   "source": [
    "# builds the complete graph\n",
    "def build_graph(N, M):\n",
    "    G = graph()\n",
    "\n",
    "    #############################################\n",
    "    ###  complete this function (25 Points)   ###\n",
    "    #############################################\n",
    "\n",
    "    #############################################\n",
    "    \n",
    "    #a vertex (s1, p1, s2, p2, e)\n",
    "    \n",
    "    for i in range(N+1):\n",
    "        for j in range(M+1):\n",
    "            \n",
    "            if validate((i, j, N-i, M-j)):\n",
    "    \n",
    "                if i>0 and validate((i-1, j, N-i+1, M-j)):\n",
    "                    G.append((i, j, N-i, M-j, 1), (i-1, j, N-i+1, M-j, 2),1)\n",
    "                    G.append((N-i, M-j, i, j, 2), (N-i+1, M-j, i-1, j, 1),1)\n",
    "                    \n",
    "                if j>0 and validate((i, j-1, N-i, M-j+1)):\n",
    "                    G.append((i, j, N-i, M-j, 1), (i, j-1, N-i, M-j+1, 2),1)\n",
    "                    G.append((N-i, M-j, i, j, 2), (N-i, M-j+1, i, j-1, 1),1)\n",
    "                    \n",
    "                if i>1 and validate((i-2, j, N-i+2, M-j)):\n",
    "                    G.append((i, j, N-i, M-j, 1), (i-2, j, N-i+2, M-j, 2),1)\n",
    "                    G.append((N-i, M-j, i, j, 2), (N-i+2, M-j, i-2, j, 1),1)\n",
    "                    \n",
    "                if j>1 and validate((i, j-2, N-i, M-j+2)):\n",
    "                    G.append((i, j, N-i, M-j, 1), (i, j-2, N-i, M-j+2, 2),1)\n",
    "                    G.append((N-i, M-j, i, j, 2), (N-i, M-j+2, i, j-2, 1),1)\n",
    "                    \n",
    "                if j>0 and i>0 and validate((i-1, j-1, N-i+1, M-j+1)):\n",
    "                    G.append((i, j, N-i, M-j, 1), (i-1, j-1, N-i+1, M-j+1, 2),1)\n",
    "                    G.append((N-i, M-j, i, j, 2), (N-i+1, M-j+1, i-1, j-1, 1),1)\n",
    "\n",
    "\n",
    "    return G\n"
   ]
  },
  {
   "cell_type": "code",
   "execution_count": 65,
   "metadata": {},
   "outputs": [
    {
     "data": {
      "text/plain": [
       "{(1, 0, 2, 3, 1): {(0, 0, 3, 3, 2): 1},\n",
       " (0, 0, 3, 3, 2): {(1, 0, 2, 3, 1): 1, (2, 0, 1, 3, 1): 1, (1, 1, 2, 2, 1): 1},\n",
       " (2, 3, 1, 0, 2): {(3, 3, 0, 0, 1): 1},\n",
       " (3, 3, 0, 0, 1): {(2, 3, 1, 0, 2): 1, (1, 3, 2, 0, 2): 1, (2, 2, 1, 1, 2): 1},\n",
       " (1, 1, 2, 2, 1): {(1, 0, 2, 3, 2): 1, (0, 0, 3, 3, 2): 1},\n",
       " (1, 0, 2, 3, 2): {(2, 0, 1, 3, 1): 1, (1, 1, 2, 2, 1): 1, (3, 0, 0, 3, 1): 1},\n",
       " (2, 2, 1, 1, 2): {(2, 3, 1, 0, 1): 1, (3, 3, 0, 0, 1): 1},\n",
       " (2, 3, 1, 0, 1): {(1, 3, 2, 0, 2): 1, (2, 2, 1, 1, 2): 1, (0, 3, 3, 0, 2): 1},\n",
       " (1, 3, 2, 0, 1): {(0, 3, 3, 0, 2): 1, (1, 1, 2, 2, 2): 1},\n",
       " (0, 3, 3, 0, 2): {(1, 3, 2, 0, 1): 1, (2, 3, 1, 0, 1): 1},\n",
       " (2, 0, 1, 3, 2): {(3, 0, 0, 3, 1): 1, (2, 2, 1, 1, 1): 1},\n",
       " (3, 0, 0, 3, 1): {(2, 0, 1, 3, 2): 1, (1, 0, 2, 3, 2): 1},\n",
       " (1, 1, 2, 2, 2): {(1, 3, 2, 0, 1): 1, (2, 2, 1, 1, 1): 1},\n",
       " (2, 2, 1, 1, 1): {(2, 0, 1, 3, 2): 1, (1, 1, 2, 2, 2): 1},\n",
       " (2, 0, 1, 3, 1): {(1, 0, 2, 3, 2): 1, (0, 0, 3, 3, 2): 1},\n",
       " (1, 3, 2, 0, 2): {(2, 3, 1, 0, 1): 1, (3, 3, 0, 0, 1): 1}}"
      ]
     },
     "execution_count": 65,
     "metadata": {},
     "output_type": "execute_result"
    }
   ],
   "source": [
    "G = build_graph(N, M)\n",
    "G.reveal()\n"
   ]
  },
  {
   "cell_type": "markdown",
   "metadata": {},
   "source": [
    "### Depth First Search"
   ]
  },
  {
   "cell_type": "markdown",
   "metadata": {},
   "source": [
    "The first algorithm we use to solve the problem is Depth First Search. The function below  executes DFS on G from start until it reaches end. Note that if end is not reachable from start this function returns false and otherwise it returns the found path as a list of states. DFS code is completely and it is used as a baseline to evaulute your A* implementation in the next part."
   ]
  },
  {
   "cell_type": "code",
   "execution_count": 66,
   "metadata": {},
   "outputs": [],
   "source": [
    "###########################################\n",
    "###### no need to change any thing ########\n",
    "###########################################\n",
    "# Depth First Search to find the path from start to end\n",
    "def run_dfs(G, start, end):\n",
    "    queue = []\n",
    "    queue.append(start)\n",
    "\n",
    "    # pred keeps track of how we got to the current vertex\n",
    "    pred = {}\n",
    "\n",
    "    while queue:\n",
    "        current = queue.pop(0)\n",
    "        G.visit(current)\n",
    "\n",
    "        smallq = []\n",
    "\n",
    "        # find children and add to the priority\n",
    "        for newpos in G.neighbour(current):\n",
    "            if not G.is_visited(newpos):\n",
    "                # if the child vertex has already been in queue\n",
    "                # move it to the frontline of queue\n",
    "                if newpos in queue:\n",
    "                    queue.remove(newpos)\n",
    "                smallq.append(newpos)\n",
    "                pred[newpos] = current\n",
    "\n",
    "        queue = smallq+queue\n",
    "\n",
    "        # traversal ends when the target is met\n",
    "        if current == end:\n",
    "            break\n",
    "\n",
    "    if current != end:\n",
    "        return False\n",
    "\n",
    "    # create the path by backtracking\n",
    "    # trace the predecessor vertex from end to start\n",
    "    previous = end\n",
    "    path = []\n",
    "    while pred:\n",
    "        path.insert(0, previous)\n",
    "        if previous == start:\n",
    "            break\n",
    "        previous = pred[previous]\n",
    "\n",
    "    return path\n"
   ]
  },
  {
   "cell_type": "code",
   "execution_count": 67,
   "metadata": {},
   "outputs": [],
   "source": [
    "start_vertex = (N, M, 0, 0, 1)\n",
    "end_vertex = (0, 0, N, M, 2)"
   ]
  },
  {
   "cell_type": "code",
   "execution_count": 68,
   "metadata": {},
   "outputs": [
    {
     "name": "stdout",
     "output_type": "stream",
     "text": [
      "length of the path DFS has found: 11\n",
      "number of vertices DFS has traveled: 14\n"
     ]
    }
   ],
   "source": [
    "###########################################\n",
    "###### no need to change any thing ########\n",
    "###########################################\n",
    "def dfs_result(G, start_vertex, end_vertex):\n",
    "\n",
    "    dfs_path = run_dfs(G, start_vertex, end_vertex)\n",
    "\n",
    "    num_of_visited_dfs = 0\n",
    "    num_of_visited_dfs = len([i for i in G.get_visited() if G.get_visited()[i] == 1])\n",
    "\n",
    "    G.clear(whole=True)\n",
    "\n",
    "    if not dfs_path:\n",
    "        print(\"end vertex not reachable\")\n",
    "    else:\n",
    "        print(f'length of the path DFS has found:', len(dfs_path) - 1)\n",
    "\n",
    "    print(f'number of vertices DFS has traveled:', num_of_visited_dfs)\n",
    "\n",
    "\n",
    "dfs_result(G, start_vertex, end_vertex)\n"
   ]
  },
  {
   "cell_type": "markdown",
   "metadata": {},
   "source": [
    "### A* Algorithm"
   ]
  },
  {
   "cell_type": "markdown",
   "metadata": {},
   "source": [
    "Next we use the A* algorithm. To use A* we need to propose a heuristic function. Propose a non-trivial heuristic function and argue that it is admissible. (10 Points)\n",
    "\n"
   ]
  },
  {
   "cell_type": "markdown",
   "metadata": {},
   "source": [
    "<font color='cyan'>\n",
    "\n",
    "$$\n",
    " h((s1, p1, s2, p2, e)) = ?\n",
    "$$\n",
    "\n",
    " <font color='black'>\n",
    "answer: If we consider the target state to be (0, 0, N, M, 2), then the function h is defined as follows:\n",
    "\n",
    "$$\n",
    " h((s1, p1, s2, p2, e)) = |N-s2|+|M-p2|+e-2 = s1+p1+e-2\n",
    "$$  \n",
    "\n",
    "We know that for the heuristic function to be admissible, h must always underestimate the cost. If s1 is equal to one, e is equal to 1 and e-2 is equal to -1, and the function h remains constant. Also, while s1 increases by two, h increases by one. Similarly, if p1 increases by one or two, h remains constant or increases by one, which makes the condition of underestimating between two adjacent states hold. If s1 decreases by one or two, e becomes equal to 2 and e-2 becomes zero, but since the cost between the two states is one and in the previous state, e-2 was equal to -1, so the condition of underestimating the function h is also established. By decreasing p1 by one or two, h remains admissible by similar reasoning.\n",
    "\n",
    "     \n",
    "Also, in the goal state, s1 and p1 are equal to zero and e is equal to 2, so  the h function is equal to zero. Considering that the condition of underestimating h function is fulfilled in all adjacent states and its value is equal to zero in the goal state, h is admissible.\n",
    "</font>\n",
    "\n"
   ]
  },
  {
   "cell_type": "code",
   "execution_count": 70,
   "metadata": {},
   "outputs": [],
   "source": [
    "import math\n",
    "def heuristic_func(input):\n",
    "    s1, p1, s2, p2, e = input\n",
    "######################################################\n",
    "###### implement the func you proposed(5 Points) #####\n",
    "######################################################  \n",
    "    \n",
    "    #return abs(N-s2)+abs(M-p2)+abs(2-e)+abs(0-s1)+abs(0-p1)\n",
    "    #return math.sqrt((N-s2)**2+(M-p2)**2+(2-e)**2+(0-s1)**2+(0-p1)**2)\n",
    "    return s1+p1+e-2\n"
   ]
  },
  {
   "cell_type": "markdown",
   "metadata": {},
   "source": [
    "Like DFS if end is not reachable from start A* must return false and otherwise it must return the found path as a list of states."
   ]
  },
  {
   "cell_type": "code",
   "execution_count": 71,
   "metadata": {},
   "outputs": [],
   "source": [
    "# A* to find the path from start to end\n",
    "def run_a_star(G, start, end):\n",
    "    #######################################################\n",
    "    ######### implement A* algorithm (30 Points) ##########\n",
    "    #######################################################\n",
    "    \n",
    "    g = {} #Actual movement cost to each position from the start position\n",
    "    f = {} #Estimated movement cost of start to end going via this position\n",
    " \n",
    "    #Initialize starting values\n",
    "    g[start] = 0 \n",
    "    f[start] = heuristic_func(start)\n",
    "    \n",
    "    closedVertices = set()\n",
    "    openVertices = set([start])\n",
    "    cameFrom = {}\n",
    "    \n",
    "    while len(openVertices) > 0:\n",
    "        #Get the vertex in the open list with the lowest F score\n",
    "        current = None\n",
    "        currentFscore = None\n",
    "        for pos in openVertices:\n",
    "            if current is None or f[pos] < currentFscore:\n",
    "                currentFscore = f[pos]\n",
    "                current = pos\n",
    "        \n",
    "        #Check if we have reached the goal\n",
    "        if current == end:\n",
    "            #Retrace our route backward\n",
    "            path = [current]\n",
    "            while current in cameFrom:\n",
    "                current = cameFrom[current]\n",
    "                path.append(current)\n",
    "            path.reverse()\n",
    "            return path #Done!\n",
    "        \n",
    "        #Mark the current vertex as closed\n",
    "        openVertices.remove(current)\n",
    "        G.visit(current)\n",
    "        closedVertices.add(current)\n",
    "        \n",
    "        #Update scores for vertices near the current position\n",
    "        for neighbour in G.neighbour(current):\n",
    "            if neighbour in closedVertices:\n",
    "                continue #We have already processed this node exhaustively\n",
    "            candidateG = g[current] + G.weight(current, neighbour)\n",
    "            \n",
    "            if neighbour not in openVertices:\n",
    "                openVertices.add(neighbour) #Discovered a new verte\n",
    "            elif candidateG >= g[neighbour]:\n",
    "                continue #This G score is worse than previously found\n",
    "            \n",
    "            #Adopt this g score\n",
    "            cameFrom[neighbour] = current\n",
    "            g[neighbour] = candidateG\n",
    "            h = heuristic_func(neighbour)\n",
    "            f[neighbour] = g[neighbour] + h\n",
    "    \n",
    "    return  []\n",
    " "
   ]
  },
  {
   "cell_type": "code",
   "execution_count": 72,
   "metadata": {},
   "outputs": [
    {
     "name": "stdout",
     "output_type": "stream",
     "text": [
      "length of the path A* has found: 11\n",
      "number of vertices A* has traveled: 13\n"
     ]
    }
   ],
   "source": [
    "###########################################\n",
    "###### no need to change any thing ########\n",
    "###########################################\n",
    "def a_star_result(G, start_vertex, end_vertex):\n",
    "\n",
    "    a_star_path = run_a_star(G, start_vertex, end_vertex)\n",
    "\n",
    "    num_of_visited_a_star = 0\n",
    "    num_of_visited_a_star = len([i for i in G.get_visited() if G.get_visited()[i] == 1])\n",
    "\n",
    "    G.clear(whole=True)\n",
    "\n",
    "    if not a_star_path:\n",
    "        print(\"end vertex not reachable\")\n",
    "    else:\n",
    "        print(f'length of the path A* has found:', len(a_star_path) - 1)\n",
    "\n",
    "    print(f'number of vertices A* has traveled:', num_of_visited_a_star)\n",
    "\n",
    "\n",
    "a_star_result(G, start_vertex, end_vertex)\n"
   ]
  },
  {
   "cell_type": "code",
   "execution_count": 74,
   "metadata": {},
   "outputs": [
    {
     "name": "stdout",
     "output_type": "stream",
     "text": [
      "[(3, 3, 0, 0, 1), (1, 3, 2, 0, 2), (2, 3, 1, 0, 1), (0, 3, 3, 0, 2), (1, 3, 2, 0, 1), (1, 1, 2, 2, 2), (2, 2, 1, 1, 1), (2, 0, 1, 3, 2), (3, 0, 0, 3, 1), (1, 0, 2, 3, 2), (2, 0, 1, 3, 1), (0, 0, 3, 3, 2)]\n"
     ]
    }
   ],
   "source": [
    "a_star_path = run_a_star(G, start_vertex, end_vertex)\n",
    "print(a_star_path)"
   ]
  },
  {
   "cell_type": "markdown",
   "metadata": {},
   "source": [
    "## Visualization"
   ]
  },
  {
   "cell_type": "markdown",
   "metadata": {},
   "source": [
    "The below code creates a gif named \"result.gif\" which shows the result found by A* algorithm."
   ]
  },
  {
   "cell_type": "code",
   "execution_count": 75,
   "metadata": {},
   "outputs": [
    {
     "name": "stderr",
     "output_type": "stream",
     "text": [
      "MovieWriter ffmpeg unavailable; using Pillow instead.\n"
     ]
    },
    {
     "data": {
      "image/png": "[encoded data removed]",
      "text/plain": [
       "<Figure size 648x360 with 1 Axes>"
      ]
     },
     "metadata": {},
     "output_type": "display_data"
    }
   ],
   "source": [
    "import drawer\n",
    "\n",
    "drawer.create_gif(run_a_star(G, start_vertex, end_vertex))\n",
    "G.clear(whole=True)"
   ]
  },
  {
   "cell_type": "markdown",
   "metadata": {},
   "source": [
    "## Results"
   ]
  },
  {
   "cell_type": "markdown",
   "metadata": {},
   "source": [
    "Now results of DFS and A* could be compared. Run the code below and explain the result. (10 Points)"
   ]
  },
  {
   "cell_type": "code",
   "execution_count": 76,
   "metadata": {},
   "outputs": [
    {
     "name": "stdout",
     "output_type": "stream",
     "text": [
      "length of the path DFS has found: 751\n",
      "number of vertices DFS has traveled: 891\n",
      "length of the path A* has found: 477\n",
      "number of vertices A* has traveled: 8481\n"
     ]
    }
   ],
   "source": [
    "N = 100\n",
    "M = 140\n",
    "\n",
    "start_vertex = (N, M, 0, 0, 1)\n",
    "end_vertex = (0, 0, N, M, 2)\n",
    "\n",
    "G = build_graph(N, M)\n",
    "\n",
    "dfs_result(G, start_vertex, end_vertex)\n",
    "a_star_result(G, start_vertex, end_vertex)\n"
   ]
  },
  {
   "cell_type": "markdown",
   "metadata": {},
   "source": [
    "<font color='cyan'>\n",
    "\n",
    "Your explanation.\n",
    "\n",
    "<font color='black'>\n",
    "    answer: As we can see, in the DFS algorithm, the traveled path is longer, but the number of visited nodes is less, while in the A* algorithm, the traveled path is shorter, but the number of nodes has been met much more.\n",
    "    $\\\\$\n",
    "    Therefore, we can conclude that the path found by A* is more optimal (in terms of the shorter path), but it searches more vertices and takes longer time for searching.\n",
    "In general, when solutions are frequent and located deep in the tree, DFS works better, but in the case of the search tree being infinite or the tree is dense, A* works better. \n",
    "    $\\\\$\n",
    "    In general blind search is slower than heuristic search, therefore for a good enough heuristic, A* should be prefered."
   ]
  },
  {
   "cell_type": "markdown",
   "metadata": {},
   "source": [
    "Cell below runs some tests on dfs and stores the results in \"student_number.txt\". Then run the cell and upload the result on Quera."
   ]
  },
  {
   "cell_type": "code",
   "execution_count": 59,
   "metadata": {},
   "outputs": [],
   "source": [
    "tests = [(100, 140), (200, 260), (600, 610), (800, 1000)]\n",
    "\n",
    "f = open(student_number + \".txt\", \"w\")\n",
    "\n",
    "\n",
    "def run_tests():\n",
    "    for test in tests:\n",
    "        N, M = test\n",
    "        G = graph()\n",
    "        start_vertex = (N, M, 0, 0, 1)\n",
    "        end_vertex = (0, 0, N, M, 2)\n",
    "\n",
    "        G = build_graph(N, M)\n",
    "\n",
    "        f.write(str(run_a_star(G, start_vertex, end_vertex)))\n",
    "        G.clear(whole=True)\n",
    "\n",
    "    f.close()\n",
    "\n",
    "\n",
    "run_tests()\n"
   ]
  },
  {
   "cell_type": "code",
   "execution_count": null,
   "metadata": {},
   "outputs": [],
   "source": []
  }
 ],
 "metadata": {
  "kernelspec": {
   "display_name": "Python 3 (ipykernel)",
   "language": "python",
   "name": "python3"
  },
  "language_info": {
   "codemirror_mode": {
    "name": "ipython",
    "version": 3
   },
   "file_extension": ".py",
   "mimetype": "text/x-python",
   "name": "python",
   "nbconvert_exporter": "python",
   "pygments_lexer": "ipython3",
   "version": "3.9.7"
  },
  "vscode": {
   "interpreter": {
    "hash": "f72c34bb2e2aa76acaec51e5a386e2497fab8a5e682a38cfc0469e5a4ec35b0f"
   }
  }
 },
 "nbformat": 4,
 "nbformat_minor": 2
}
